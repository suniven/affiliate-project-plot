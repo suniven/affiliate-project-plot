{
 "cells": [
  {
   "cell_type": "code",
   "execution_count": 1,
   "metadata": {},
   "outputs": [],
   "source": [
    "import pandas as pd"
   ]
  },
  {
   "cell_type": "code",
   "execution_count": 2,
   "metadata": {},
   "outputs": [
    {
     "data": {
      "text/html": [
       "<div>\n",
       "<style scoped>\n",
       "    .dataframe tbody tr th:only-of-type {\n",
       "        vertical-align: middle;\n",
       "    }\n",
       "\n",
       "    .dataframe tbody tr th {\n",
       "        vertical-align: top;\n",
       "    }\n",
       "\n",
       "    .dataframe thead th {\n",
       "        text-align: right;\n",
       "    }\n",
       "</style>\n",
       "<table border=\"1\" class=\"dataframe\">\n",
       "  <thead>\n",
       "    <tr style=\"text-align: right;\">\n",
       "      <th></th>\n",
       "      <th>query</th>\n",
       "      <th>id</th>\n",
       "      <th>title</th>\n",
       "      <th>link</th>\n",
       "      <th>snippet</th>\n",
       "      <th>date</th>\n",
       "      <th>domain</th>\n",
       "      <th>site_name</th>\n",
       "    </tr>\n",
       "  </thead>\n",
       "  <tbody>\n",
       "    <tr>\n",
       "      <th>0</th>\n",
       "      <td>\"ct/629011\"</td>\n",
       "      <td>ct/629011</td>\n",
       "      <td>Make money online - प्रोडक्ट/सर्विस</td>\n",
       "      <td>https://hi-in.facebook.com/p/Make-money-online...</td>\n",
       "      <td>Make money online. 4 अक्तू॰ 2021󰞋󰟠. https://t....</td>\n",
       "      <td>NaN</td>\n",
       "      <td>hi-in.facebook.com</td>\n",
       "      <td>facebook</td>\n",
       "    </tr>\n",
       "    <tr>\n",
       "      <th>1</th>\n",
       "      <td>\"ct/224512\"</td>\n",
       "      <td>ct/224512</td>\n",
       "      <td>Ultra Hair Away Hair Removal Spray Review</td>\n",
       "      <td>https://m.youtube.com/watch?v=sjGTL8VosIM&amp;itct...</td>\n",
       "      <td>learn more here:http://www.shavenomore.com/ct/...</td>\n",
       "      <td>Sep 6, 2016</td>\n",
       "      <td>m.youtube.com</td>\n",
       "      <td>youtube</td>\n",
       "    </tr>\n",
       "    <tr>\n",
       "      <th>2</th>\n",
       "      <td>\"ct/224512\"</td>\n",
       "      <td>ct/224512</td>\n",
       "      <td>Eye gel &amp; youth regenerating moisturizer - by ...</td>\n",
       "      <td>http://www.cureaging.org/a6/c,k/videolist/anti...</td>\n",
       "      <td>Kollagen Intensiv Anti Aging Wrinkle Reducer R...</td>\n",
       "      <td>NaN</td>\n",
       "      <td>www.cureaging.org</td>\n",
       "      <td>cureaging</td>\n",
       "    </tr>\n",
       "    <tr>\n",
       "      <th>3</th>\n",
       "      <td>\"ct/586341\"</td>\n",
       "      <td>ct/586341</td>\n",
       "      <td>A Healthstore flow.page/markettrader</td>\n",
       "      <td>https://markettrader.tumblr.com/</td>\n",
       "      <td>Pitch Natural Health Source as the place your ...</td>\n",
       "      <td>NaN</td>\n",
       "      <td>markettrader.tumblr.com</td>\n",
       "      <td>tumblr</td>\n",
       "    </tr>\n",
       "    <tr>\n",
       "      <th>4</th>\n",
       "      <td>\"ct/662751\"</td>\n",
       "      <td>ct/662751</td>\n",
       "      <td>WARNING OF THE YEAR 2022! VigRx Plus Reviews</td>\n",
       "      <td>https://www.youtube.com/watch?v=f-ixPU_souI</td>\n",
       "      <td>VigRx Plus Reviews – VigRx Plus Really OFFICIA...</td>\n",
       "      <td>Apr 29, 2022</td>\n",
       "      <td>www.youtube.com</td>\n",
       "      <td>youtube</td>\n",
       "    </tr>\n",
       "  </tbody>\n",
       "</table>\n",
       "</div>"
      ],
      "text/plain": [
       "         query         id                                              title  \\\n",
       "0  \"ct/629011\"  ct/629011                Make money online - प्रोडक्ट/सर्विस   \n",
       "1  \"ct/224512\"  ct/224512          Ultra Hair Away Hair Removal Spray Review   \n",
       "2  \"ct/224512\"  ct/224512  Eye gel & youth regenerating moisturizer - by ...   \n",
       "3  \"ct/586341\"  ct/586341               A Healthstore flow.page/markettrader   \n",
       "4  \"ct/662751\"  ct/662751       WARNING OF THE YEAR 2022! VigRx Plus Reviews   \n",
       "\n",
       "                                                link  \\\n",
       "0  https://hi-in.facebook.com/p/Make-money-online...   \n",
       "1  https://m.youtube.com/watch?v=sjGTL8VosIM&itct...   \n",
       "2  http://www.cureaging.org/a6/c,k/videolist/anti...   \n",
       "3                   https://markettrader.tumblr.com/   \n",
       "4        https://www.youtube.com/watch?v=f-ixPU_souI   \n",
       "\n",
       "                                             snippet          date  \\\n",
       "0  Make money online. 4 अक्तू॰ 2021󰞋󰟠. https://t....           NaN   \n",
       "1  learn more here:http://www.shavenomore.com/ct/...   Sep 6, 2016   \n",
       "2  Kollagen Intensiv Anti Aging Wrinkle Reducer R...           NaN   \n",
       "3  Pitch Natural Health Source as the place your ...           NaN   \n",
       "4  VigRx Plus Reviews – VigRx Plus Really OFFICIA...  Apr 29, 2022   \n",
       "\n",
       "                    domain  site_name  \n",
       "0       hi-in.facebook.com   facebook  \n",
       "1            m.youtube.com    youtube  \n",
       "2        www.cureaging.org  cureaging  \n",
       "3  markettrader.tumblr.com     tumblr  \n",
       "4          www.youtube.com    youtube  "
      ]
     },
     "execution_count": 2,
     "metadata": {},
     "output_type": "execute_result"
    }
   ],
   "source": [
    "df = pd.read_csv('./data/affiliates.csv')\n",
    "df.head()"
   ]
  },
  {
   "cell_type": "code",
   "execution_count": 3,
   "metadata": {},
   "outputs": [],
   "source": [
    "# 按照 \"site_name\" 列分组，并统计每个组中有多少个不同的 \"id\"\n",
    "# 也就是统计有几个 affiliates 选择通过这个 site 宣传\n",
    "grouped = df.groupby('site_name')['id'].nunique()"
   ]
  },
  {
   "cell_type": "code",
   "execution_count": 4,
   "metadata": {},
   "outputs": [
    {
     "data": {
      "text/plain": [
       "site_name\n",
       "youtube        181\n",
       "facebook        63\n",
       "pinterest       34\n",
       "quora           25\n",
       "twitter         18\n",
       "reddit          14\n",
       "bitchute         8\n",
       "medium           7\n",
       "dailymotion      6\n",
       "rumble           5\n",
       "Name: id, dtype: int64"
      ]
     },
     "execution_count": 4,
     "metadata": {},
     "output_type": "execute_result"
    }
   ],
   "source": [
    "grouped.sort_values(ascending=False).head(10)"
   ]
  },
  {
   "cell_type": "code",
   "execution_count": 5,
   "metadata": {},
   "outputs": [
    {
     "data": {
      "text/plain": [
       "324"
      ]
     },
     "execution_count": 5,
     "metadata": {},
     "output_type": "execute_result"
    }
   ],
   "source": [
    "df.id.nunique()"
   ]
  },
  {
   "cell_type": "code",
   "execution_count": 6,
   "metadata": {},
   "outputs": [
    {
     "data": {
      "text/plain": [
       "'\\nWebsite\\tNumber of affiliates\\tPercentage\\nYouTube\\t181\\t55.86%\\nFacebook\\t63\\t19.44%\\nPinterest\\t34\\t10.49%\\nQuora\\t25\\t7.72%\\nTwitter\\t18\\t5.56%\\n'"
      ]
     },
     "execution_count": 6,
     "metadata": {},
     "output_type": "execute_result"
    }
   ],
   "source": [
    "\"\"\"\n",
    "Website\tNumber of affiliates\tPercentage\n",
    "YouTube\t181\t55.86%\n",
    "Facebook\t63\t19.44%\n",
    "Pinterest\t34\t10.49%\n",
    "Quora\t25\t7.72%\n",
    "Twitter\t18\t5.56%\n",
    "\"\"\""
   ]
  },
  {
   "cell_type": "code",
   "execution_count": 7,
   "metadata": {},
   "outputs": [],
   "source": [
    "# 按照 \"id\" 分组，并统计每个组中有多少个不同的 \"site_name\"\n",
    "# 也就是统计 affiliates 会选择几个不同的网站进行 post\n",
    "grouped = df.groupby('id')['site_name'].nunique()"
   ]
  },
  {
   "cell_type": "code",
   "execution_count": 8,
   "metadata": {},
   "outputs": [
    {
     "data": {
      "text/plain": [
       "id\n",
       "ct/446462                    23\n",
       "idevaffiliate.php?id=102     15\n",
       "idevaffiliate.php?id=1214    12\n",
       "ct/183292                    11\n",
       "ct/692141                     8\n",
       "ct/272332                     7\n",
       "ct/530112                     7\n",
       "ct/349622                     6\n",
       "ct/662071                     6\n",
       "ct/243896                     6\n",
       "Name: site_name, dtype: int64"
      ]
     },
     "execution_count": 8,
     "metadata": {},
     "output_type": "execute_result"
    }
   ],
   "source": [
    "grouped.sort_values(ascending=False).head(10)"
   ]
  },
  {
   "cell_type": "code",
   "execution_count": 9,
   "metadata": {},
   "outputs": [
    {
     "data": {
      "text/plain": [
       "1.6975308641975309"
      ]
     },
     "execution_count": 9,
     "metadata": {},
     "output_type": "execute_result"
    }
   ],
   "source": [
    "grouped.mean()"
   ]
  },
  {
   "cell_type": "code",
   "execution_count": 10,
   "metadata": {},
   "outputs": [
    {
     "data": {
      "text/plain": [
       "61"
      ]
     },
     "execution_count": 10,
     "metadata": {},
     "output_type": "execute_result"
    }
   ],
   "source": [
    "# 按照'id'分组并计算每组的数据量\n",
    "grouped = df.groupby('id').size()\n",
    "# 筛选出数据量>=10的组\n",
    "filtered_groups = grouped[grouped >= 10]\n",
    "len(filtered_groups)"
   ]
  },
  {
   "cell_type": "code",
   "execution_count": 11,
   "metadata": {},
   "outputs": [
    {
     "data": {
      "text/html": [
       "<div>\n",
       "<style scoped>\n",
       "    .dataframe tbody tr th:only-of-type {\n",
       "        vertical-align: middle;\n",
       "    }\n",
       "\n",
       "    .dataframe tbody tr th {\n",
       "        vertical-align: top;\n",
       "    }\n",
       "\n",
       "    .dataframe thead th {\n",
       "        text-align: right;\n",
       "    }\n",
       "</style>\n",
       "<table border=\"1\" class=\"dataframe\">\n",
       "  <thead>\n",
       "    <tr style=\"text-align: right;\">\n",
       "      <th></th>\n",
       "      <th>query</th>\n",
       "      <th>id</th>\n",
       "      <th>title</th>\n",
       "      <th>link</th>\n",
       "      <th>snippet</th>\n",
       "      <th>date</th>\n",
       "      <th>domain</th>\n",
       "      <th>site_name</th>\n",
       "    </tr>\n",
       "  </thead>\n",
       "  <tbody>\n",
       "    <tr>\n",
       "      <th>28</th>\n",
       "      <td>\"ct/606701\"</td>\n",
       "      <td>ct/606701</td>\n",
       "      <td>Confitrol24 Review 😱WARNING! Does ...</td>\n",
       "      <td>https://www.youtube.com/watch?v=Obq89OMZLW8</td>\n",
       "      <td>Official Website: https://www.confitrol24.com/...</td>\n",
       "      <td>Jul 23, 2021</td>\n",
       "      <td>www.youtube.com</td>\n",
       "      <td>youtube</td>\n",
       "    </tr>\n",
       "    <tr>\n",
       "      <th>29</th>\n",
       "      <td>\"ct/606701\"</td>\n",
       "      <td>ct/606701</td>\n",
       "      <td>GenF20 Plus Review ❌BE CAREFUL! Does ...</td>\n",
       "      <td>https://www.youtube.com/watch?v=t9_s69ahsH4</td>\n",
       "      <td>Get GenF20 Plus on OFFICIAL WEBSITE https://ww...</td>\n",
       "      <td>Apr 15, 2022</td>\n",
       "      <td>www.youtube.com</td>\n",
       "      <td>youtube</td>\n",
       "    </tr>\n",
       "    <tr>\n",
       "      <th>30</th>\n",
       "      <td>\"ct/606701\"</td>\n",
       "      <td>ct/606701</td>\n",
       "      <td>GenF20 Plus Review ❌WATCH 10X! Does ...</td>\n",
       "      <td>https://www.youtube.com/watch?v=Qw1SCFATg1c</td>\n",
       "      <td>Get GenF20 Plus on OFFICIAL WEBSITE https://ww...</td>\n",
       "      <td>Apr 27, 2022</td>\n",
       "      <td>www.youtube.com</td>\n",
       "      <td>youtube</td>\n",
       "    </tr>\n",
       "    <tr>\n",
       "      <th>31</th>\n",
       "      <td>\"ct/606701\"</td>\n",
       "      <td>ct/606701</td>\n",
       "      <td>Vigrx Plus Review ❌I CAN'T BELIEVE IN THIS! Do...</td>\n",
       "      <td>https://www.youtube.com/watch?v=NZg_ucROdpk</td>\n",
       "      <td>Official Website: https://www.vigrxplus.com/ct...</td>\n",
       "      <td>Dec 17, 2021</td>\n",
       "      <td>www.youtube.com</td>\n",
       "      <td>youtube</td>\n",
       "    </tr>\n",
       "    <tr>\n",
       "      <th>32</th>\n",
       "      <td>\"ct/606701\"</td>\n",
       "      <td>ct/606701</td>\n",
       "      <td>Semenax Review</td>\n",
       "      <td>https://www.youtube.com/watch?v=tJ6yXqk-dEU</td>\n",
       "      <td>Official Website: https://www.semenax.com/ct/6...</td>\n",
       "      <td>Jun 26, 2022</td>\n",
       "      <td>www.youtube.com</td>\n",
       "      <td>youtube</td>\n",
       "    </tr>\n",
       "    <tr>\n",
       "      <th>...</th>\n",
       "      <td>...</td>\n",
       "      <td>...</td>\n",
       "      <td>...</td>\n",
       "      <td>...</td>\n",
       "      <td>...</td>\n",
       "      <td>...</td>\n",
       "      <td>...</td>\n",
       "      <td>...</td>\n",
       "    </tr>\n",
       "    <tr>\n",
       "      <th>2939</th>\n",
       "      <td>\"ct/250066\"</td>\n",
       "      <td>ct/250066</td>\n",
       "      <td>160 Locks I love ideas | long hair styles, ...</td>\n",
       "      <td>https://br.pinterest.com/Polar125/locks-i-love/</td>\n",
       "      <td>ClearPores TM Stop Letting Acne Rule Your Life...</td>\n",
       "      <td>NaN</td>\n",
       "      <td>br.pinterest.com</td>\n",
       "      <td>pinterest</td>\n",
       "    </tr>\n",
       "    <tr>\n",
       "      <th>2940</th>\n",
       "      <td>\"ct/250066\"</td>\n",
       "      <td>ct/250066</td>\n",
       "      <td>Hair and beauty</td>\n",
       "      <td>https://br.pinterest.com/veronicacappucci/hair...</td>\n",
       "      <td>ClearPores TM Stop Letting Acne Rule Your Life...</td>\n",
       "      <td>NaN</td>\n",
       "      <td>br.pinterest.com</td>\n",
       "      <td>pinterest</td>\n",
       "    </tr>\n",
       "    <tr>\n",
       "      <th>2941</th>\n",
       "      <td>\"ct/250066\"</td>\n",
       "      <td>ct/250066</td>\n",
       "      <td>March 2016</td>\n",
       "      <td>https://myshisuperstore.blogspot.com/2016/03/</td>\n",
       "      <td>VigRXDelaySpray.com/ct/250066. Do you know wha...</td>\n",
       "      <td>NaN</td>\n",
       "      <td>myshisuperstore.blogspot.com</td>\n",
       "      <td>blogspot</td>\n",
       "    </tr>\n",
       "    <tr>\n",
       "      <th>2942</th>\n",
       "      <td>\"ct/250066\"</td>\n",
       "      <td>ct/250066</td>\n",
       "      <td>SHInternational SuperStore: 2016</td>\n",
       "      <td>https://myshisuperstore.blogspot.com/2016/</td>\n",
       "      <td>VigRXDelaySpray.com/ct/250066. Do you know wha...</td>\n",
       "      <td>NaN</td>\n",
       "      <td>myshisuperstore.blogspot.com</td>\n",
       "      <td>blogspot</td>\n",
       "    </tr>\n",
       "    <tr>\n",
       "      <th>2943</th>\n",
       "      <td>\"ct/250066\"</td>\n",
       "      <td>ct/250066</td>\n",
       "      <td>March 2016</td>\n",
       "      <td>https://myshisuperstore.blogspot.com/2016/03/?m=1</td>\n",
       "      <td>VigRXDelaySpray.com/ct/250066. Do you know wha...</td>\n",
       "      <td>NaN</td>\n",
       "      <td>myshisuperstore.blogspot.com</td>\n",
       "      <td>blogspot</td>\n",
       "    </tr>\n",
       "  </tbody>\n",
       "</table>\n",
       "<p>2182 rows × 8 columns</p>\n",
       "</div>"
      ],
      "text/plain": [
       "            query         id  \\\n",
       "28    \"ct/606701\"  ct/606701   \n",
       "29    \"ct/606701\"  ct/606701   \n",
       "30    \"ct/606701\"  ct/606701   \n",
       "31    \"ct/606701\"  ct/606701   \n",
       "32    \"ct/606701\"  ct/606701   \n",
       "...           ...        ...   \n",
       "2939  \"ct/250066\"  ct/250066   \n",
       "2940  \"ct/250066\"  ct/250066   \n",
       "2941  \"ct/250066\"  ct/250066   \n",
       "2942  \"ct/250066\"  ct/250066   \n",
       "2943  \"ct/250066\"  ct/250066   \n",
       "\n",
       "                                                  title  \\\n",
       "28                Confitrol24 Review 😱WARNING! Does ...   \n",
       "29             GenF20 Plus Review ❌BE CAREFUL! Does ...   \n",
       "30              GenF20 Plus Review ❌WATCH 10X! Does ...   \n",
       "31    Vigrx Plus Review ❌I CAN'T BELIEVE IN THIS! Do...   \n",
       "32                                       Semenax Review   \n",
       "...                                                 ...   \n",
       "2939     160 Locks I love ideas | long hair styles, ...   \n",
       "2940                                    Hair and beauty   \n",
       "2941                                         March 2016   \n",
       "2942                   SHInternational SuperStore: 2016   \n",
       "2943                                         March 2016   \n",
       "\n",
       "                                                   link  \\\n",
       "28          https://www.youtube.com/watch?v=Obq89OMZLW8   \n",
       "29          https://www.youtube.com/watch?v=t9_s69ahsH4   \n",
       "30          https://www.youtube.com/watch?v=Qw1SCFATg1c   \n",
       "31          https://www.youtube.com/watch?v=NZg_ucROdpk   \n",
       "32          https://www.youtube.com/watch?v=tJ6yXqk-dEU   \n",
       "...                                                 ...   \n",
       "2939    https://br.pinterest.com/Polar125/locks-i-love/   \n",
       "2940  https://br.pinterest.com/veronicacappucci/hair...   \n",
       "2941      https://myshisuperstore.blogspot.com/2016/03/   \n",
       "2942         https://myshisuperstore.blogspot.com/2016/   \n",
       "2943  https://myshisuperstore.blogspot.com/2016/03/?m=1   \n",
       "\n",
       "                                                snippet          date  \\\n",
       "28    Official Website: https://www.confitrol24.com/...  Jul 23, 2021   \n",
       "29    Get GenF20 Plus on OFFICIAL WEBSITE https://ww...  Apr 15, 2022   \n",
       "30    Get GenF20 Plus on OFFICIAL WEBSITE https://ww...  Apr 27, 2022   \n",
       "31    Official Website: https://www.vigrxplus.com/ct...  Dec 17, 2021   \n",
       "32    Official Website: https://www.semenax.com/ct/6...  Jun 26, 2022   \n",
       "...                                                 ...           ...   \n",
       "2939  ClearPores TM Stop Letting Acne Rule Your Life...           NaN   \n",
       "2940  ClearPores TM Stop Letting Acne Rule Your Life...           NaN   \n",
       "2941  VigRXDelaySpray.com/ct/250066. Do you know wha...           NaN   \n",
       "2942  VigRXDelaySpray.com/ct/250066. Do you know wha...           NaN   \n",
       "2943  VigRXDelaySpray.com/ct/250066. Do you know wha...           NaN   \n",
       "\n",
       "                            domain  site_name  \n",
       "28                 www.youtube.com    youtube  \n",
       "29                 www.youtube.com    youtube  \n",
       "30                 www.youtube.com    youtube  \n",
       "31                 www.youtube.com    youtube  \n",
       "32                 www.youtube.com    youtube  \n",
       "...                            ...        ...  \n",
       "2939              br.pinterest.com  pinterest  \n",
       "2940              br.pinterest.com  pinterest  \n",
       "2941  myshisuperstore.blogspot.com   blogspot  \n",
       "2942  myshisuperstore.blogspot.com   blogspot  \n",
       "2943  myshisuperstore.blogspot.com   blogspot  \n",
       "\n",
       "[2182 rows x 8 columns]"
      ]
     },
     "execution_count": 11,
     "metadata": {},
     "output_type": "execute_result"
    }
   ],
   "source": [
    "# 筛选出id在filtered_groups中的数据\n",
    "filtered_data = df[df['id'].isin(filtered_groups.index)]\n",
    "filtered_data"
   ]
  },
  {
   "cell_type": "code",
   "execution_count": 12,
   "metadata": {},
   "outputs": [
    {
     "data": {
      "text/plain": [
       "61"
      ]
     },
     "execution_count": 12,
     "metadata": {},
     "output_type": "execute_result"
    }
   ],
   "source": [
    "filtered_data.id.nunique()"
   ]
  },
  {
   "cell_type": "code",
   "execution_count": 13,
   "metadata": {},
   "outputs": [],
   "source": [
    "filtered_data.reset_index(drop=True, inplace=True)\n",
    "# 按照 \"id\" 分组，并统计每个组中有多少个不同的 \"site_name\"\n",
    "# 也就是统计 affiliates 会选择几个不同的网站进行 post\n",
    "grouped = filtered_data.groupby('id')['site_name'].nunique() "
   ]
  },
  {
   "cell_type": "code",
   "execution_count": 14,
   "metadata": {},
   "outputs": [
    {
     "data": {
      "text/plain": [
       "3.2459016393442623"
      ]
     },
     "execution_count": 14,
     "metadata": {},
     "output_type": "execute_result"
    }
   ],
   "source": [
    "grouped.mean()"
   ]
  },
  {
   "cell_type": "code",
   "execution_count": 15,
   "metadata": {},
   "outputs": [
    {
     "data": {
      "text/html": [
       "<div>\n",
       "<style scoped>\n",
       "    .dataframe tbody tr th:only-of-type {\n",
       "        vertical-align: middle;\n",
       "    }\n",
       "\n",
       "    .dataframe tbody tr th {\n",
       "        vertical-align: top;\n",
       "    }\n",
       "\n",
       "    .dataframe thead th {\n",
       "        text-align: right;\n",
       "    }\n",
       "</style>\n",
       "<table border=\"1\" class=\"dataframe\">\n",
       "  <thead>\n",
       "    <tr style=\"text-align: right;\">\n",
       "      <th></th>\n",
       "      <th>query</th>\n",
       "      <th>id</th>\n",
       "      <th>title</th>\n",
       "      <th>link</th>\n",
       "      <th>snippet</th>\n",
       "      <th>date</th>\n",
       "      <th>domain</th>\n",
       "      <th>site_name</th>\n",
       "    </tr>\n",
       "  </thead>\n",
       "  <tbody>\n",
       "    <tr>\n",
       "      <th>1</th>\n",
       "      <td>\"ct/224512\"</td>\n",
       "      <td>ct/224512</td>\n",
       "      <td>Ultra Hair Away Hair Removal Spray Review</td>\n",
       "      <td>https://m.youtube.com/watch?v=sjGTL8VosIM&amp;itct...</td>\n",
       "      <td>learn more here:http://www.shavenomore.com/ct/...</td>\n",
       "      <td>Sep 6, 2016</td>\n",
       "      <td>m.youtube.com</td>\n",
       "      <td>youtube</td>\n",
       "    </tr>\n",
       "    <tr>\n",
       "      <th>4</th>\n",
       "      <td>\"ct/662751\"</td>\n",
       "      <td>ct/662751</td>\n",
       "      <td>WARNING OF THE YEAR 2022! VigRx Plus Reviews</td>\n",
       "      <td>https://www.youtube.com/watch?v=f-ixPU_souI</td>\n",
       "      <td>VigRx Plus Reviews – VigRx Plus Really OFFICIA...</td>\n",
       "      <td>Apr 29, 2022</td>\n",
       "      <td>www.youtube.com</td>\n",
       "      <td>youtube</td>\n",
       "    </tr>\n",
       "    <tr>\n",
       "      <th>5</th>\n",
       "      <td>\"ct/624461\"</td>\n",
       "      <td>ct/624461</td>\n",
       "      <td>Semenax pills Results and Side Effects</td>\n",
       "      <td>https://www.youtube.com/watch?v=QnsbieD0gC0</td>\n",
       "      <td>Buy Semenax https://www.semenax.com/ct/624461 ...</td>\n",
       "      <td>Sep 22, 2021</td>\n",
       "      <td>www.youtube.com</td>\n",
       "      <td>youtube</td>\n",
       "    </tr>\n",
       "    <tr>\n",
       "      <th>6</th>\n",
       "      <td>\"ct/589071\"</td>\n",
       "      <td>ct/589071</td>\n",
       "      <td>Anti aging - Increase your HGH production ever...</td>\n",
       "      <td>https://m.youtube.com/watch?v=YgYHvG0HZvY&amp;pp=y...</td>\n",
       "      <td>... HGH Highlight the listed link and right-cl...</td>\n",
       "      <td>Nov 21, 2020</td>\n",
       "      <td>m.youtube.com</td>\n",
       "      <td>youtube</td>\n",
       "    </tr>\n",
       "    <tr>\n",
       "      <th>7</th>\n",
       "      <td>\"ct/155442\"</td>\n",
       "      <td>ct/155442</td>\n",
       "      <td>Morris-Health - 8513 Cozumel St, Charlotte, NC...</td>\n",
       "      <td>https://businessyab.com/explore/united_states/...</td>\n",
       "      <td>Address: 8513 Cozumel St, Charlotte, NC 28227....</td>\n",
       "      <td>Jul 23, 2023</td>\n",
       "      <td>businessyab.com</td>\n",
       "      <td>businessyab</td>\n",
       "    </tr>\n",
       "    <tr>\n",
       "      <th>...</th>\n",
       "      <td>...</td>\n",
       "      <td>...</td>\n",
       "      <td>...</td>\n",
       "      <td>...</td>\n",
       "      <td>...</td>\n",
       "      <td>...</td>\n",
       "      <td>...</td>\n",
       "      <td>...</td>\n",
       "    </tr>\n",
       "    <tr>\n",
       "      <th>2896</th>\n",
       "      <td>\"ct/744621\"</td>\n",
       "      <td>ct/744621</td>\n",
       "      <td>7 Tips To Make Your COFFEE Super Healthy and N...</td>\n",
       "      <td>https://www.youtube.com/watch?v=rZC1WxG_u_g</td>\n",
       "      <td>⭐Click Here to Get Your Product: https://www.g...</td>\n",
       "      <td>Dec 08, 2022</td>\n",
       "      <td>www.youtube.com</td>\n",
       "      <td>youtube</td>\n",
       "    </tr>\n",
       "    <tr>\n",
       "      <th>2897</th>\n",
       "      <td>\"ct/744621\"</td>\n",
       "      <td>ct/744621</td>\n",
       "      <td>How These 8 Habits are Destroying Your Kidneys...</td>\n",
       "      <td>https://www.youtube.com/watch?v=nBFSaEJv1Q0</td>\n",
       "      <td>⭐Click Here to Get Your Product: https://www.p...</td>\n",
       "      <td>Dec 11, 2022</td>\n",
       "      <td>www.youtube.com</td>\n",
       "      <td>youtube</td>\n",
       "    </tr>\n",
       "    <tr>\n",
       "      <th>2898</th>\n",
       "      <td>\"ct/744621\"</td>\n",
       "      <td>ct/744621</td>\n",
       "      <td>5 Vitamins That Will Keep Your Eyes Healthy an...</td>\n",
       "      <td>https://www.youtube.com/watch?v=YdXaSBd_07U</td>\n",
       "      <td>... and improved cellular health with \"powered...</td>\n",
       "      <td>Dec 07, 2022</td>\n",
       "      <td>www.youtube.com</td>\n",
       "      <td>youtube</td>\n",
       "    </tr>\n",
       "    <tr>\n",
       "      <th>2904</th>\n",
       "      <td>\"ct/621801\"</td>\n",
       "      <td>ct/621801</td>\n",
       "      <td>The Best Places To Visit in Sri Lanka #Shorts</td>\n",
       "      <td>https://m.youtube.com/watch?v=gkdelzDCvYg</td>\n",
       "      <td>https://www.clearpores.com/ct/621801 https://w...</td>\n",
       "      <td>Aug 15, 2021</td>\n",
       "      <td>m.youtube.com</td>\n",
       "      <td>youtube</td>\n",
       "    </tr>\n",
       "    <tr>\n",
       "      <th>2908</th>\n",
       "      <td>\"ct/233992\"</td>\n",
       "      <td>ct/233992</td>\n",
       "      <td>Proenhance: Male Enlargement Patch</td>\n",
       "      <td>https://www.youtube.com/watch?v=nELjLGRV_T4</td>\n",
       "      <td>http://www.proenhance.com/ct/233992 Get Proenh...</td>\n",
       "      <td>Aug 23, 2013</td>\n",
       "      <td>www.youtube.com</td>\n",
       "      <td>youtube</td>\n",
       "    </tr>\n",
       "  </tbody>\n",
       "</table>\n",
       "<p>1406 rows × 8 columns</p>\n",
       "</div>"
      ],
      "text/plain": [
       "            query         id  \\\n",
       "1     \"ct/224512\"  ct/224512   \n",
       "4     \"ct/662751\"  ct/662751   \n",
       "5     \"ct/624461\"  ct/624461   \n",
       "6     \"ct/589071\"  ct/589071   \n",
       "7     \"ct/155442\"  ct/155442   \n",
       "...           ...        ...   \n",
       "2896  \"ct/744621\"  ct/744621   \n",
       "2897  \"ct/744621\"  ct/744621   \n",
       "2898  \"ct/744621\"  ct/744621   \n",
       "2904  \"ct/621801\"  ct/621801   \n",
       "2908  \"ct/233992\"  ct/233992   \n",
       "\n",
       "                                                  title  \\\n",
       "1             Ultra Hair Away Hair Removal Spray Review   \n",
       "4          WARNING OF THE YEAR 2022! VigRx Plus Reviews   \n",
       "5                Semenax pills Results and Side Effects   \n",
       "6     Anti aging - Increase your HGH production ever...   \n",
       "7     Morris-Health - 8513 Cozumel St, Charlotte, NC...   \n",
       "...                                                 ...   \n",
       "2896  7 Tips To Make Your COFFEE Super Healthy and N...   \n",
       "2897  How These 8 Habits are Destroying Your Kidneys...   \n",
       "2898  5 Vitamins That Will Keep Your Eyes Healthy an...   \n",
       "2904      The Best Places To Visit in Sri Lanka #Shorts   \n",
       "2908                 Proenhance: Male Enlargement Patch   \n",
       "\n",
       "                                                   link  \\\n",
       "1     https://m.youtube.com/watch?v=sjGTL8VosIM&itct...   \n",
       "4           https://www.youtube.com/watch?v=f-ixPU_souI   \n",
       "5           https://www.youtube.com/watch?v=QnsbieD0gC0   \n",
       "6     https://m.youtube.com/watch?v=YgYHvG0HZvY&pp=y...   \n",
       "7     https://businessyab.com/explore/united_states/...   \n",
       "...                                                 ...   \n",
       "2896        https://www.youtube.com/watch?v=rZC1WxG_u_g   \n",
       "2897        https://www.youtube.com/watch?v=nBFSaEJv1Q0   \n",
       "2898        https://www.youtube.com/watch?v=YdXaSBd_07U   \n",
       "2904          https://m.youtube.com/watch?v=gkdelzDCvYg   \n",
       "2908        https://www.youtube.com/watch?v=nELjLGRV_T4   \n",
       "\n",
       "                                                snippet          date  \\\n",
       "1     learn more here:http://www.shavenomore.com/ct/...   Sep 6, 2016   \n",
       "4     VigRx Plus Reviews – VigRx Plus Really OFFICIA...  Apr 29, 2022   \n",
       "5     Buy Semenax https://www.semenax.com/ct/624461 ...  Sep 22, 2021   \n",
       "6     ... HGH Highlight the listed link and right-cl...  Nov 21, 2020   \n",
       "7     Address: 8513 Cozumel St, Charlotte, NC 28227....  Jul 23, 2023   \n",
       "...                                                 ...           ...   \n",
       "2896  ⭐Click Here to Get Your Product: https://www.g...  Dec 08, 2022   \n",
       "2897  ⭐Click Here to Get Your Product: https://www.p...  Dec 11, 2022   \n",
       "2898  ... and improved cellular health with \"powered...  Dec 07, 2022   \n",
       "2904  https://www.clearpores.com/ct/621801 https://w...  Aug 15, 2021   \n",
       "2908  http://www.proenhance.com/ct/233992 Get Proenh...  Aug 23, 2013   \n",
       "\n",
       "               domain    site_name  \n",
       "1       m.youtube.com      youtube  \n",
       "4     www.youtube.com      youtube  \n",
       "5     www.youtube.com      youtube  \n",
       "6       m.youtube.com      youtube  \n",
       "7     businessyab.com  businessyab  \n",
       "...               ...          ...  \n",
       "2896  www.youtube.com      youtube  \n",
       "2897  www.youtube.com      youtube  \n",
       "2898  www.youtube.com      youtube  \n",
       "2904    m.youtube.com      youtube  \n",
       "2908  www.youtube.com      youtube  \n",
       "\n",
       "[1406 rows x 8 columns]"
      ]
     },
     "execution_count": 15,
     "metadata": {},
     "output_type": "execute_result"
    }
   ],
   "source": [
    "df_date = df[~df['date'].isna()]\n",
    "df_date"
   ]
  },
  {
   "cell_type": "markdown",
   "metadata": {},
   "source": [
    "ct/183292 的分析"
   ]
  },
  {
   "cell_type": "code",
   "execution_count": 17,
   "metadata": {},
   "outputs": [
    {
     "name": "stderr",
     "output_type": "stream",
     "text": [
      "e:\\Anaconda3\\envs\\py37\\lib\\site-packages\\ipykernel_launcher.py:6: SettingWithCopyWarning: \n",
      "A value is trying to be set on a copy of a slice from a DataFrame.\n",
      "Try using .loc[row_indexer,col_indexer] = value instead\n",
      "\n",
      "See the caveats in the documentation: https://pandas.pydata.org/pandas-docs/stable/user_guide/indexing.html#returning-a-view-versus-a-copy\n",
      "  \n"
     ]
    },
    {
     "data": {
      "image/png": "[encoded data removed]",
      "text/plain": [
       "<Figure size 864x432 with 1 Axes>"
      ]
     },
     "metadata": {
      "needs_background": "light"
     },
     "output_type": "display_data"
    }
   ],
   "source": [
    "import matplotlib.pyplot as plt\n",
    "\n",
    "id_filter = df_date['id'] == 'ct/183292'\n",
    "filtered_data = df_date[id_filter]\n",
    "\n",
    "filtered_data['date'] = pd.to_datetime(filtered_data['date'], errors='coerce')\n",
    "\n",
    "link_counts = filtered_data.groupby('date')['link'].count()\n",
    "link_frequency = link_counts.resample('D').sum()\n",
    "\n",
    "# 筛选出数量大于0的数据点\n",
    "link_frequency = link_frequency[link_frequency > 0]\n",
    "\n",
    "plt.figure(figsize=(12, 6))\n",
    "plt.scatter(link_frequency.index, link_frequency.values, marker='o', facecolor='none', edgecolor='blue')\n",
    "# plt.title('Link Frequency' + 'ct/183292')\n",
    "# plt.xlabel('Date')\n",
    "plt.ylabel('Count of affiliate links being post per day', fontsize=14)\n",
    "plt.xticks(rotation=0, fontsize=14)\n",
    "# plt.grid(True)\n",
    "\n",
    "# 设置纵坐标的范围和刻度为整数\n",
    "plt.ylim(bottom=0)\n",
    "plt.yticks(range(0, int(link_frequency.max())+2), fontsize=14)\n",
    "\n",
    "plt.show()"
   ]
  },
  {
   "cell_type": "code",
   "execution_count": 18,
   "metadata": {},
   "outputs": [
    {
     "name": "stdout",
     "output_type": "stream",
     "text": [
      "Average days between links:  10\n"
     ]
    }
   ],
   "source": [
    "mean_days_between_links = link_frequency.index.to_series().diff().mean().days\n",
    "print(\"Average days between links: \", mean_days_between_links)  # 平均每10天发布一次链接"
   ]
  },
  {
   "cell_type": "code",
   "execution_count": 19,
   "metadata": {},
   "outputs": [
    {
     "name": "stdout",
     "output_type": "stream",
     "text": [
      "Average links per day:  1.0995670995670996\n"
     ]
    }
   ],
   "source": [
    "# 计算平均每天发布的链接数量\n",
    "average_links_per_day = link_frequency.mean()\n",
    "\n",
    "print(\"Average links per day: \", average_links_per_day)"
   ]
  },
  {
   "cell_type": "code",
   "execution_count": null,
   "metadata": {},
   "outputs": [],
   "source": []
  }
 ],
 "metadata": {
  "kernelspec": {
   "display_name": "py37",
   "language": "python",
   "name": "python3"
  },
  "language_info": {
   "codemirror_mode": {
    "name": "ipython",
    "version": 3
   },
   "file_extension": ".py",
   "mimetype": "text/x-python",
   "name": "python",
   "nbconvert_exporter": "python",
   "pygments_lexer": "ipython3",
   "version": "3.7.10"
  },
  "orig_nbformat": 4
 },
 "nbformat": 4,
 "nbformat_minor": 2
}
